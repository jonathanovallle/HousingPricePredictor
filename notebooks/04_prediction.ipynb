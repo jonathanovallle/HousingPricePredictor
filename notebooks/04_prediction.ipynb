{
 "cells": [
  {
   "cell_type": "code",
   "execution_count": 12,
   "id": "ac4a33fc",
   "metadata": {},
   "outputs": [
    {
     "name": "stdout",
     "output_type": "stream",
     "text": [
      "Archivo creado en ../data/new_houses.csv con 5 filas para predicción.\n"
     ]
    }
   ],
   "source": [
    "#Generar datos para el csv de new_houses\n",
    "import pandas as pd\n",
    "import os\n",
    "\n",
    "# Ruta al dataset original\n",
    "input_path = '../data/train.csv'\n",
    "\n",
    "# Ruta donde guardar el nuevo CSV para predicciones\n",
    "output_path = '../data/new_houses.csv'\n",
    "\n",
    "# Cargar datos originales\n",
    "df = pd.read_csv(input_path)\n",
    "\n",
    "# Seleccionar unas filas (por ejemplo, las primeras 5)\n",
    "sample_df = df.drop(columns=['SalePrice', 'Id']).head(5)\n",
    "\n",
    "# Crear carpeta si no existe\n",
    "os.makedirs(os.path.dirname(output_path), exist_ok=True)\n",
    "\n",
    "# Guardar el CSV nuevo\n",
    "sample_df.to_csv(output_path, index=False)\n",
    "\n",
    "print(f'Archivo creado en {output_path} con {len(sample_df)} filas para predicción.')"
   ]
  },
  {
   "cell_type": "code",
   "execution_count": null,
   "id": "9ef3f830",
   "metadata": {},
   "outputs": [
    {
     "name": "stdout",
     "output_type": "stream",
     "text": [
      "   Predicted_Price\n",
      "0    201463.359375\n",
      "1    178592.781250\n",
      "2    220655.250000\n",
      "3    143025.625000\n",
      "4    255786.234375\n"
     ]
    }
   ],
   "source": [
    "#Prediccion de los precios\n",
    "import joblib\n",
    "import pandas as pd\n",
    "\n",
    "preprocessor = joblib.load('models/preprocessor.pkl')\n",
    "model = joblib.load('models/xgboost.pkl')\n",
    "\n",
    "new_data = pd.read_csv('../data/new_houses.csv')\n",
    "\n",
    "X_new = preprocessor.transform(new_data)\n",
    "\n",
    "\n",
    "predictions = model.predict(X_new)\n",
    "new_data['Predicted_Price'] = predictions\n",
    "print(new_data[['Predicted_Price']].head())\n",
    "\n",
    "new_data.to_csv('../data/predictions.csv', index=False)"
   ]
  }
 ],
 "metadata": {
  "kernelspec": {
   "display_name": "venv",
   "language": "python",
   "name": "python3"
  },
  "language_info": {
   "codemirror_mode": {
    "name": "ipython",
    "version": 3
   },
   "file_extension": ".py",
   "mimetype": "text/x-python",
   "name": "python",
   "nbconvert_exporter": "python",
   "pygments_lexer": "ipython3",
   "version": "3.13.5"
  }
 },
 "nbformat": 4,
 "nbformat_minor": 5
}

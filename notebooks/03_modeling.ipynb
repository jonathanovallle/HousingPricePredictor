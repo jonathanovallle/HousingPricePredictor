{
 "cells": [
  {
   "cell_type": "code",
   "execution_count": 33,
   "id": "c8406ff8",
   "metadata": {},
   "outputs": [],
   "source": [
    "#Cargar los datos preprocesados\n",
    "import sys\n",
    "import os\n",
    "# Asegura que la carpeta models/ exista\n",
    "os.makedirs(\"models\", exist_ok=True)\n",
    "\n",
    "sys.path.append(os.path.abspath(os.path.join(os.path.dirname(\"__file__\"), '..')))\n",
    "from src.preprocessing import load_and_preprocess\n",
    "\n",
    "X_train, X_test, y_train, y_test = load_and_preprocess('../data/train.csv')"
   ]
  },
  {
   "cell_type": "code",
   "execution_count": 34,
   "id": "22f940fe",
   "metadata": {},
   "outputs": [],
   "source": [
    "#Importar los modelos\n",
    "from sklearn.linear_model import LinearRegression, Ridge, Lasso\n",
    "from sklearn.ensemble import RandomForestRegressor\n",
    "from xgboost import XGBRegressor\n",
    "from sklearn.metrics import mean_squared_error, mean_absolute_error, r2_score\n",
    "import numpy as np\n",
    "import pandas as pd"
   ]
  },
  {
   "cell_type": "code",
   "execution_count": 35,
   "id": "d25484b9",
   "metadata": {},
   "outputs": [],
   "source": [
    "#Funcion para evaluar\n",
    "def evaluate_model(model, X_test, y_test):\n",
    "    y_pred = model.predict(X_test)\n",
    "    rmse = np.sqrt(mean_squared_error(y_test, y_pred))\n",
    "    mae = mean_absolute_error(y_test, y_pred)\n",
    "    r2 = r2_score(y_test, y_pred)\n",
    "    print(f\"RMSE: {rmse:.2f}\")\n",
    "    print(f\"MAE: {mae:.2f}\")\n",
    "    print(f\"R²: {r2:.4f}\")\n",
    "    return rmse, mae, r2"
   ]
  },
  {
   "cell_type": "code",
   "execution_count": 36,
   "id": "8733ed85",
   "metadata": {},
   "outputs": [
    {
     "name": "stdout",
     "output_type": "stream",
     "text": [
      "Linear Regression:\n",
      "RMSE: 60078.61\n",
      "MAE: 20820.99\n",
      "R²: 0.3466\n"
     ]
    },
    {
     "data": {
      "text/plain": [
       "(np.float64(60078.60608996669), 20820.985643357548, 0.34655737412228205)"
      ]
     },
     "execution_count": 36,
     "metadata": {},
     "output_type": "execute_result"
    }
   ],
   "source": [
    "#Entrenamiento - Regresion Lineal\n",
    "lr = LinearRegression()\n",
    "lr.fit(X_train, y_train)\n",
    "print(\"Linear Regression:\")\n",
    "evaluate_model(lr, X_test, y_test)"
   ]
  },
  {
   "cell_type": "code",
   "execution_count": 37,
   "id": "ecfbc2d0",
   "metadata": {},
   "outputs": [
    {
     "name": "stdout",
     "output_type": "stream",
     "text": [
      "Ridge Regression:\n",
      "RMSE: 23242.56\n",
      "MAE: 16878.10\n",
      "R²: 0.9022\n"
     ]
    },
    {
     "data": {
      "text/plain": [
       "(np.float64(23242.564250970714), 16878.09601593081, 0.9022006775664252)"
      ]
     },
     "execution_count": 37,
     "metadata": {},
     "output_type": "execute_result"
    }
   ],
   "source": [
    "#Entrenamiento - Ridge\n",
    "ridge = Ridge(alpha=10)\n",
    "ridge.fit(X_train, y_train)\n",
    "print(\"Ridge Regression:\")\n",
    "evaluate_model(ridge, X_test, y_test)"
   ]
  },
  {
   "cell_type": "code",
   "execution_count": 38,
   "id": "97cce2aa",
   "metadata": {},
   "outputs": [
    {
     "name": "stdout",
     "output_type": "stream",
     "text": [
      "Lasso Regression:\n",
      "RMSE: 29032.99\n",
      "MAE: 18778.37\n",
      "R²: 0.8474\n"
     ]
    },
    {
     "name": "stderr",
     "output_type": "stream",
     "text": [
      "c:\\Users\\Necxon\\Desktop\\poll-app\\FrontPollApp\\stock-predictor\\venv\\Lib\\site-packages\\sklearn\\linear_model\\_coordinate_descent.py:656: ConvergenceWarning: Objective did not converge. You might want to increase the number of iterations, check the scale of the features or consider increasing regularisation. Duality gap: 2.085e+11, tolerance: 7.594e+08\n",
      "  model = cd_fast.sparse_enet_coordinate_descent(\n"
     ]
    },
    {
     "data": {
      "text/plain": [
       "(np.float64(29032.993794739716), 18778.36757260063, 0.8474010982092156)"
      ]
     },
     "execution_count": 38,
     "metadata": {},
     "output_type": "execute_result"
    }
   ],
   "source": [
    "#Entrenamiento - Lasso\n",
    "lasso = Lasso(alpha=0.001)\n",
    "lasso.fit(X_train, y_train)\n",
    "print(\"Lasso Regression:\")\n",
    "evaluate_model(lasso, X_test, y_test)\n"
   ]
  },
  {
   "cell_type": "code",
   "execution_count": 39,
   "id": "fb7a31ea",
   "metadata": {},
   "outputs": [
    {
     "name": "stdout",
     "output_type": "stream",
     "text": [
      "Random Forest:\n",
      "RMSE: 24332.95\n",
      "MAE: 16836.61\n",
      "R²: 0.8928\n"
     ]
    },
    {
     "data": {
      "text/plain": [
       "(np.float64(24332.95222796036), 16836.610102739727, 0.8928092344698181)"
      ]
     },
     "execution_count": 39,
     "metadata": {},
     "output_type": "execute_result"
    }
   ],
   "source": [
    "#Entrenamiento - Random Forest\n",
    "rf = RandomForestRegressor(n_estimators=100, random_state=42)\n",
    "rf.fit(X_train, y_train)\n",
    "print(\"Random Forest:\")\n",
    "evaluate_model(rf, X_test, y_test)"
   ]
  },
  {
   "cell_type": "code",
   "execution_count": 40,
   "id": "9f811bd6",
   "metadata": {},
   "outputs": [
    {
     "name": "stdout",
     "output_type": "stream",
     "text": [
      "XGBoost:\n",
      "RMSE: 22988.64\n",
      "MAE: 16206.30\n",
      "R²: 0.9043\n"
     ]
    },
    {
     "data": {
      "text/plain": [
       "(np.float64(22988.640673167258), 16206.3017578125, 0.9043259024620056)"
      ]
     },
     "execution_count": 40,
     "metadata": {},
     "output_type": "execute_result"
    }
   ],
   "source": [
    "#Entrenamiento - XGBoost\n",
    "xgb = XGBRegressor(n_estimators=100, learning_rate=0.1, random_state=42)\n",
    "xgb.fit(X_train, y_train)\n",
    "print(\"XGBoost:\")\n",
    "evaluate_model(xgb, X_test, y_test)"
   ]
  },
  {
   "cell_type": "code",
   "execution_count": 41,
   "id": "48c2b53e",
   "metadata": {},
   "outputs": [
    {
     "name": "stdout",
     "output_type": "stream",
     "text": [
      "Linear Regression\n",
      "RMSE: 60078.61\n",
      "MAE: 20820.99\n",
      "R²: 0.3466\n",
      "Ridge\n",
      "RMSE: 23242.56\n",
      "MAE: 16878.10\n",
      "R²: 0.9022\n",
      "Lasso\n",
      "RMSE: 29032.99\n",
      "MAE: 18778.37\n",
      "R²: 0.8474\n",
      "Random Forest\n"
     ]
    },
    {
     "name": "stdout",
     "output_type": "stream",
     "text": [
      "RMSE: 24332.95\n",
      "MAE: 16836.61\n",
      "R²: 0.8928\n",
      "XGBoost\n",
      "RMSE: 22988.64\n",
      "MAE: 16206.30\n",
      "R²: 0.9043\n"
     ]
    },
    {
     "data": {
      "text/html": [
       "<div>\n",
       "<style scoped>\n",
       "    .dataframe tbody tr th:only-of-type {\n",
       "        vertical-align: middle;\n",
       "    }\n",
       "\n",
       "    .dataframe tbody tr th {\n",
       "        vertical-align: top;\n",
       "    }\n",
       "\n",
       "    .dataframe thead th {\n",
       "        text-align: right;\n",
       "    }\n",
       "</style>\n",
       "<table border=\"1\" class=\"dataframe\">\n",
       "  <thead>\n",
       "    <tr style=\"text-align: right;\">\n",
       "      <th></th>\n",
       "      <th>Model</th>\n",
       "      <th>RMSE</th>\n",
       "      <th>MAE</th>\n",
       "      <th>R²</th>\n",
       "    </tr>\n",
       "  </thead>\n",
       "  <tbody>\n",
       "    <tr>\n",
       "      <th>4</th>\n",
       "      <td>XGBoost</td>\n",
       "      <td>22988.640673</td>\n",
       "      <td>16206.301758</td>\n",
       "      <td>0.904326</td>\n",
       "    </tr>\n",
       "    <tr>\n",
       "      <th>1</th>\n",
       "      <td>Ridge</td>\n",
       "      <td>23242.564251</td>\n",
       "      <td>16878.096016</td>\n",
       "      <td>0.902201</td>\n",
       "    </tr>\n",
       "    <tr>\n",
       "      <th>3</th>\n",
       "      <td>Random Forest</td>\n",
       "      <td>24332.952228</td>\n",
       "      <td>16836.610103</td>\n",
       "      <td>0.892809</td>\n",
       "    </tr>\n",
       "    <tr>\n",
       "      <th>2</th>\n",
       "      <td>Lasso</td>\n",
       "      <td>29032.993795</td>\n",
       "      <td>18778.367573</td>\n",
       "      <td>0.847401</td>\n",
       "    </tr>\n",
       "    <tr>\n",
       "      <th>0</th>\n",
       "      <td>Linear Regression</td>\n",
       "      <td>60078.606090</td>\n",
       "      <td>20820.985643</td>\n",
       "      <td>0.346557</td>\n",
       "    </tr>\n",
       "  </tbody>\n",
       "</table>\n",
       "</div>"
      ],
      "text/plain": [
       "               Model          RMSE           MAE        R²\n",
       "4            XGBoost  22988.640673  16206.301758  0.904326\n",
       "1              Ridge  23242.564251  16878.096016  0.902201\n",
       "3      Random Forest  24332.952228  16836.610103  0.892809\n",
       "2              Lasso  29032.993795  18778.367573  0.847401\n",
       "0  Linear Regression  60078.606090  20820.985643  0.346557"
      ]
     },
     "execution_count": 41,
     "metadata": {},
     "output_type": "execute_result"
    }
   ],
   "source": [
    "#Resultados\n",
    "results = []\n",
    "\n",
    "models = {\n",
    "    \"Linear Regression\": lr,\n",
    "    \"Ridge\": ridge,\n",
    "    \"Lasso\": lasso,\n",
    "    \"Random Forest\": rf,\n",
    "    \"XGBoost\": xgb\n",
    "}\n",
    "\n",
    "for name, model in models.items():\n",
    "    print(name)\n",
    "    rmse, mae, r2 = evaluate_model(model, X_test, y_test)\n",
    "    results.append((name, rmse, mae, r2))\n",
    "\n",
    "results_df = pd.DataFrame(results, columns=[\"Model\", \"RMSE\", \"MAE\", \"R²\"])\n",
    "results_df.sort_values(by=\"RMSE\")"
   ]
  },
  {
   "cell_type": "code",
   "execution_count": 42,
   "id": "00267209",
   "metadata": {},
   "outputs": [
    {
     "data": {
      "text/html": [
       "<div>\n",
       "<style scoped>\n",
       "    .dataframe tbody tr th:only-of-type {\n",
       "        vertical-align: middle;\n",
       "    }\n",
       "\n",
       "    .dataframe tbody tr th {\n",
       "        vertical-align: top;\n",
       "    }\n",
       "\n",
       "    .dataframe thead th {\n",
       "        text-align: right;\n",
       "    }\n",
       "</style>\n",
       "<table border=\"1\" class=\"dataframe\">\n",
       "  <thead>\n",
       "    <tr style=\"text-align: right;\">\n",
       "      <th></th>\n",
       "      <th>Model</th>\n",
       "      <th>RMSE</th>\n",
       "      <th>MAE</th>\n",
       "      <th>R²</th>\n",
       "    </tr>\n",
       "  </thead>\n",
       "  <tbody>\n",
       "    <tr>\n",
       "      <th>4</th>\n",
       "      <td>XGBoost</td>\n",
       "      <td>22988.640673</td>\n",
       "      <td>16206.301758</td>\n",
       "      <td>0.904326</td>\n",
       "    </tr>\n",
       "    <tr>\n",
       "      <th>1</th>\n",
       "      <td>Ridge</td>\n",
       "      <td>23242.564251</td>\n",
       "      <td>16878.096016</td>\n",
       "      <td>0.902201</td>\n",
       "    </tr>\n",
       "    <tr>\n",
       "      <th>3</th>\n",
       "      <td>Random Forest</td>\n",
       "      <td>24332.952228</td>\n",
       "      <td>16836.610103</td>\n",
       "      <td>0.892809</td>\n",
       "    </tr>\n",
       "    <tr>\n",
       "      <th>2</th>\n",
       "      <td>Lasso</td>\n",
       "      <td>29032.993795</td>\n",
       "      <td>18778.367573</td>\n",
       "      <td>0.847401</td>\n",
       "    </tr>\n",
       "    <tr>\n",
       "      <th>0</th>\n",
       "      <td>Linear Regression</td>\n",
       "      <td>60078.606090</td>\n",
       "      <td>20820.985643</td>\n",
       "      <td>0.346557</td>\n",
       "    </tr>\n",
       "  </tbody>\n",
       "</table>\n",
       "</div>"
      ],
      "text/plain": [
       "               Model          RMSE           MAE        R²\n",
       "4            XGBoost  22988.640673  16206.301758  0.904326\n",
       "1              Ridge  23242.564251  16878.096016  0.902201\n",
       "3      Random Forest  24332.952228  16836.610103  0.892809\n",
       "2              Lasso  29032.993795  18778.367573  0.847401\n",
       "0  Linear Regression  60078.606090  20820.985643  0.346557"
      ]
     },
     "execution_count": 42,
     "metadata": {},
     "output_type": "execute_result"
    }
   ],
   "source": [
    "# Ver tabla ordenada por RMSE\n",
    "results_df.sort_values(by=\"RMSE\", ascending=True)"
   ]
  },
  {
   "cell_type": "code",
   "execution_count": 43,
   "id": "da41fedb",
   "metadata": {},
   "outputs": [
    {
     "name": "stdout",
     "output_type": "stream",
     "text": [
      "Mejor modelo: XGBoost\n"
     ]
    }
   ],
   "source": [
    "best_model_name = results_df.sort_values(by=\"RMSE\", ascending=True).iloc[0][\"Model\"]\n",
    "print(f\"Mejor modelo: {best_model_name}\")"
   ]
  },
  {
   "cell_type": "code",
   "execution_count": 44,
   "id": "47c74a54",
   "metadata": {},
   "outputs": [],
   "source": [
    "model_objects = {\n",
    "    \"Linear Regression\": lr,\n",
    "    \"Ridge\": ridge,\n",
    "    \"Lasso\": lasso,\n",
    "    \"Random Forest\": rf,\n",
    "    \"XGBoost\": xgb\n",
    "}\n",
    "\n",
    "best_model = model_objects[best_model_name]"
   ]
  },
  {
   "cell_type": "code",
   "execution_count": 45,
   "id": "4f10ff39",
   "metadata": {},
   "outputs": [
    {
     "data": {
      "text/plain": [
       "['models/xgboost.pkl']"
      ]
     },
     "execution_count": 45,
     "metadata": {},
     "output_type": "execute_result"
    }
   ],
   "source": [
    "import os\n",
    "import joblib\n",
    "\n",
    "os.makedirs(\"models\", exist_ok=True)\n",
    "joblib.dump(best_model, f\"models/{best_model_name.replace(' ', '_').lower()}.pkl\")"
   ]
  }
 ],
 "metadata": {
  "kernelspec": {
   "display_name": "venv",
   "language": "python",
   "name": "python3"
  },
  "language_info": {
   "codemirror_mode": {
    "name": "ipython",
    "version": 3
   },
   "file_extension": ".py",
   "mimetype": "text/x-python",
   "name": "python",
   "nbconvert_exporter": "python",
   "pygments_lexer": "ipython3",
   "version": "3.13.5"
  }
 },
 "nbformat": 4,
 "nbformat_minor": 5
}
